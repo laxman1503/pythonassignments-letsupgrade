{
  "nbformat": 4,
  "nbformat_minor": 0,
  "metadata": {
    "colab": {
      "name": "day-5.ipynb",
      "provenance": [],
      "authorship_tag": "ABX9TyNclwpv3cg2jfCWk+5fk7zS",
      "include_colab_link": true
    },
    "kernelspec": {
      "name": "python3",
      "display_name": "Python 3"
    }
  },
  "cells": [
    {
      "cell_type": "markdown",
      "metadata": {
        "id": "view-in-github",
        "colab_type": "text"
      },
      "source": [
        "<a href=\"https://colab.research.google.com/github/laxman1503/pythonassignments-letsupgrade/blob/main/day_5.ipynb\" target=\"_parent\"><img src=\"https://colab.research.google.com/assets/colab-badge.svg\" alt=\"Open In Colab\"/></a>"
      ]
    },
    {
      "cell_type": "code",
      "metadata": {
        "id": "WR1saDeexoQN"
      },
      "source": [
        "#functions\r\n"
      ],
      "execution_count": 1,
      "outputs": []
    },
    {
      "cell_type": "code",
      "metadata": {
        "id": "bP3v3jjbxyCV"
      },
      "source": [
        "def isEven(num):\r\n",
        "  if num%2==0:\r\n",
        "    return srt(num) +\"its even number\"\r\n",
        "  else:\r\n",
        "    return str(num) +\"its odd number\""
      ],
      "execution_count": 22,
      "outputs": []
    },
    {
      "cell_type": "code",
      "metadata": {
        "colab": {
          "base_uri": "https://localhost:8080/",
          "height": 35
        },
        "id": "BcWxE1uAzKpl",
        "outputId": "74be8d76-1df1-4dbf-f4ba-ce01dd269b3a"
      },
      "source": [
        "isEven(3)"
      ],
      "execution_count": 23,
      "outputs": [
        {
          "output_type": "execute_result",
          "data": {
            "application/vnd.google.colaboratory.intrinsic+json": {
              "type": "string"
            },
            "text/plain": [
              "'3its odd number'"
            ]
          },
          "metadata": {
            "tags": []
          },
          "execution_count": 23
        }
      ]
    },
    {
      "cell_type": "code",
      "metadata": {
        "colab": {
          "base_uri": "https://localhost:8080/"
        },
        "id": "LwRF3WeyzTnL",
        "outputId": "3b140517-f9db-42c3-a61f-8116d9893b19"
      },
      "source": [
        " someFunc(6)"
      ],
      "execution_count": 5,
      "outputs": [
        {
          "output_type": "stream",
          "text": [
            "its even number\n"
          ],
          "name": "stdout"
        }
      ]
    },
    {
      "cell_type": "code",
      "metadata": {
        "id": "9J38Hmz2zWYu"
      },
      "source": [
        "lst=[1,2,3,4,5,6,7,8,9,10]\r\n"
      ],
      "execution_count": 7,
      "outputs": []
    },
    {
      "cell_type": "code",
      "metadata": {
        "colab": {
          "base_uri": "https://localhost:8080/"
        },
        "id": "MZ3hajbP1tEt",
        "outputId": "4ac59eda-e7ef-4160-82d9-8b36462dbea8"
      },
      "source": [
        "type(lst)"
      ],
      "execution_count": 8,
      "outputs": [
        {
          "output_type": "execute_result",
          "data": {
            "text/plain": [
              "list"
            ]
          },
          "metadata": {
            "tags": []
          },
          "execution_count": 8
        }
      ]
    },
    {
      "cell_type": "code",
      "metadata": {
        "colab": {
          "base_uri": "https://localhost:8080/"
        },
        "id": "DY1bOzxs1yjy",
        "outputId": "f14801bd-dd28-4bde-9c35-5e4d779df7cd"
      },
      "source": [
        "for item in lst:\r\n",
        "  someFunc(item)"
      ],
      "execution_count": 11,
      "outputs": [
        {
          "output_type": "stream",
          "text": [
            "its odd number\n",
            "its even number\n",
            "its odd number\n",
            "its even number\n",
            "its odd number\n",
            "its even number\n",
            "its odd number\n",
            "its even number\n",
            "its odd number\n",
            "its even number\n"
          ],
          "name": "stdout"
        }
      ]
    },
    {
      "cell_type": "code",
      "metadata": {
        "colab": {
          "base_uri": "https://localhost:8080/",
          "height": 35
        },
        "id": "pMOu8e-j125e",
        "outputId": "4b889340-2180-4e6d-e3f1-91148ee79d77"
      },
      "source": [
        "\"sai \"+str(50)"
      ],
      "execution_count": 12,
      "outputs": [
        {
          "output_type": "execute_result",
          "data": {
            "application/vnd.google.colaboratory.intrinsic+json": {
              "type": "string"
            },
            "text/plain": [
              "'sai 50'"
            ]
          },
          "metadata": {
            "tags": []
          },
          "execution_count": 12
        }
      ]
    },
    {
      "cell_type": "code",
      "metadata": {
        "id": "3kBbDmoS3mQ7"
      },
      "source": [
        "def isEven(num):\r\n",
        "  if num%2==0:\r\n",
        "    return str(num) + \" is a even number\"\r\n",
        "  else:\r\n",
        "    return str(num) + \" is a odd number\"\r\n"
      ],
      "execution_count": 29,
      "outputs": []
    },
    {
      "cell_type": "code",
      "metadata": {
        "colab": {
          "base_uri": "https://localhost:8080/",
          "height": 35
        },
        "id": "yq3MK3h5FBL9",
        "outputId": "0db4a100-00c6-489c-fd6a-610816cb6461"
      },
      "source": [
        "isEven(54)"
      ],
      "execution_count": 30,
      "outputs": [
        {
          "output_type": "execute_result",
          "data": {
            "application/vnd.google.colaboratory.intrinsic+json": {
              "type": "string"
            },
            "text/plain": [
              "'54 is a even number'"
            ]
          },
          "metadata": {
            "tags": []
          },
          "execution_count": 30
        }
      ]
    },
    {
      "cell_type": "code",
      "metadata": {
        "colab": {
          "base_uri": "https://localhost:8080/",
          "height": 35
        },
        "id": "Dox2K57jFEDB",
        "outputId": "270a6fc9-9293-480e-f6f4-94502061919a"
      },
      "source": [
        "\"sai \"+str(25)"
      ],
      "execution_count": 28,
      "outputs": [
        {
          "output_type": "execute_result",
          "data": {
            "application/vnd.google.colaboratory.intrinsic+json": {
              "type": "string"
            },
            "text/plain": [
              "'sai 25'"
            ]
          },
          "metadata": {
            "tags": []
          },
          "execution_count": 28
        }
      ]
    },
    {
      "cell_type": "code",
      "metadata": {
        "id": "JO-5hjNGFRIl"
      },
      "source": [
        "lst=[1,2,3,4,5,6,7,8,9,21]"
      ],
      "execution_count": 31,
      "outputs": []
    },
    {
      "cell_type": "code",
      "metadata": {
        "colab": {
          "base_uri": "https://localhost:8080/"
        },
        "id": "y7hxTZ0iJIpP",
        "outputId": "b2239ac5-fcbc-4960-f4ac-6fd6885e9b32"
      },
      "source": [
        "type(lst)"
      ],
      "execution_count": 32,
      "outputs": [
        {
          "output_type": "execute_result",
          "data": {
            "text/plain": [
              "list"
            ]
          },
          "metadata": {
            "tags": []
          },
          "execution_count": 32
        }
      ]
    },
    {
      "cell_type": "code",
      "metadata": {
        "id": "9XPcHv8VJKaQ"
      },
      "source": [
        "result_lst=[]"
      ],
      "execution_count": 33,
      "outputs": []
    },
    {
      "cell_type": "code",
      "metadata": {
        "id": "ifvSsOgTJQz3"
      },
      "source": [
        "for item in lst:\r\n",
        "  result_lst.append(isEven(item))"
      ],
      "execution_count": 34,
      "outputs": []
    },
    {
      "cell_type": "code",
      "metadata": {
        "colab": {
          "base_uri": "https://localhost:8080/"
        },
        "id": "-N1dKkEdJcTl",
        "outputId": "770fe510-a32a-463f-c0f4-b66dc9c0f1a2"
      },
      "source": [
        "result_lst"
      ],
      "execution_count": 35,
      "outputs": [
        {
          "output_type": "execute_result",
          "data": {
            "text/plain": [
              "['1 is a odd number',\n",
              " '2 is a even number',\n",
              " '3 is a odd number',\n",
              " '4 is a even number',\n",
              " '5 is a odd number',\n",
              " '6 is a even number',\n",
              " '7 is a odd number',\n",
              " '8 is a even number',\n",
              " '9 is a odd number',\n",
              " '21 is a odd number']"
            ]
          },
          "metadata": {
            "tags": []
          },
          "execution_count": 35
        }
      ]
    },
    {
      "cell_type": "code",
      "metadata": {
        "colab": {
          "base_uri": "https://localhost:8080/"
        },
        "id": "IkA8Hli7JfsA",
        "outputId": "a248f888-2925-4ed3-b9b5-47e939389dab"
      },
      "source": [
        "result_lst_withmap=map(isEven,lst)\r\n",
        "print(list(result_lst_withmap))"
      ],
      "execution_count": 45,
      "outputs": [
        {
          "output_type": "stream",
          "text": [
            "['1 is a odd number', '2 is a even number', '3 is a odd number', '4 is a even number', '5 is a odd number', '6 is a even number', '7 is a odd number', '8 is a even number', '9 is a odd number', '21 is a odd number']\n"
          ],
          "name": "stdout"
        }
      ]
    },
    {
      "cell_type": "code",
      "metadata": {
        "colab": {
          "base_uri": "https://localhost:8080/",
          "height": 128
        },
        "id": "Yrt1oetuJyta",
        "outputId": "6c8a3839-2b30-4840-f955-cd90be47b675"
      },
      "source": [
        "result_lst_withMap=map(isEven,lst)\r\n",
        " print(lst(result_lst_withMap))"
      ],
      "execution_count": 43,
      "outputs": [
        {
          "output_type": "error",
          "ename": "IndentationError",
          "evalue": "ignored",
          "traceback": [
            "\u001b[0;36m  File \u001b[0;32m\"<ipython-input-43-c6b7c886f992>\"\u001b[0;36m, line \u001b[0;32m2\u001b[0m\n\u001b[0;31m    print(lst(result_lst_withMap))\u001b[0m\n\u001b[0m    ^\u001b[0m\n\u001b[0;31mIndentationError\u001b[0m\u001b[0;31m:\u001b[0m unexpected indent\n"
          ]
        }
      ]
    },
    {
      "cell_type": "code",
      "metadata": {
        "colab": {
          "base_uri": "https://localhost:8080/"
        },
        "id": "RKRMorSgKgq2",
        "outputId": "ecb84d31-2e81-4afc-c29f-9237e7849cb2"
      },
      "source": [
        "result_lst_withMap=map(isEven,lst)\r\n",
        "print(list(result_lst_withMap))"
      ],
      "execution_count": 49,
      "outputs": [
        {
          "output_type": "stream",
          "text": [
            "['1 is a odd number', '2 is a even number', '3 is a odd number', '4 is a even number', '5 is a odd number', '6 is a even number', '7 is a odd number', '8 is a even number', '9 is a odd number', '21 is a odd number']\n"
          ],
          "name": "stdout"
        }
      ]
    },
    {
      "cell_type": "code",
      "metadata": {
        "id": "myTNH5b7LAWR"
      },
      "source": [
        "#filters\r\n"
      ],
      "execution_count": 50,
      "outputs": []
    },
    {
      "cell_type": "code",
      "metadata": {
        "id": "-0Sv3ue0LWe5"
      },
      "source": [
        "def isOdd(num):\r\n",
        "  if num%2==0:\r\n",
        "    return True\r\n",
        "  else:\r\n",
        "    return False"
      ],
      "execution_count": 61,
      "outputs": []
    },
    {
      "cell_type": "code",
      "metadata": {
        "colab": {
          "base_uri": "https://localhost:8080/"
        },
        "id": "xaaCmjpTLign",
        "outputId": "e8667ac2-f6db-4722-d2cd-f26d5e966164"
      },
      "source": [
        "isOdd(6)"
      ],
      "execution_count": 54,
      "outputs": [
        {
          "output_type": "execute_result",
          "data": {
            "text/plain": [
              "True"
            ]
          },
          "metadata": {
            "tags": []
          },
          "execution_count": 54
        }
      ]
    },
    {
      "cell_type": "code",
      "metadata": {
        "colab": {
          "base_uri": "https://localhost:8080/"
        },
        "id": "H7wcpNz7LsdB",
        "outputId": "1229afd8-6cec-4b16-ccf5-da697a9be30a"
      },
      "source": [
        "isOdd(15)"
      ],
      "execution_count": 62,
      "outputs": [
        {
          "output_type": "execute_result",
          "data": {
            "text/plain": [
              "False"
            ]
          },
          "metadata": {
            "tags": []
          },
          "execution_count": 62
        }
      ]
    },
    {
      "cell_type": "code",
      "metadata": {
        "id": "njoteCZ7LvE9"
      },
      "source": [
        "lst=[1,23,15,42,67,65,5485,5774,54846351]\r\n"
      ],
      "execution_count": 64,
      "outputs": []
    },
    {
      "cell_type": "code",
      "metadata": {
        "colab": {
          "base_uri": "https://localhost:8080/"
        },
        "id": "2TtP2Lx1MKrB",
        "outputId": "402545c1-ba7b-4234-8d31-a09b18e6ef75"
      },
      "source": [
        "type(lst)"
      ],
      "execution_count": 66,
      "outputs": [
        {
          "output_type": "execute_result",
          "data": {
            "text/plain": [
              "list"
            ]
          },
          "metadata": {
            "tags": []
          },
          "execution_count": 66
        }
      ]
    },
    {
      "cell_type": "code",
      "metadata": {
        "id": "Z7mMjguBMPQS"
      },
      "source": [
        "filtered_odd_lst=[]"
      ],
      "execution_count": 67,
      "outputs": []
    },
    {
      "cell_type": "code",
      "metadata": {
        "id": "Imoru2pgMYf2"
      },
      "source": [
        "filtered_lst=filter(isOdd,lst)"
      ],
      "execution_count": 71,
      "outputs": []
    },
    {
      "cell_type": "code",
      "metadata": {
        "colab": {
          "base_uri": "https://localhost:8080/"
        },
        "id": "c8-Q7aLlMjhz",
        "outputId": "2734f229-073a-4624-df2e-292eebd455f7"
      },
      "source": [
        "list(filtered_lst)"
      ],
      "execution_count": 72,
      "outputs": [
        {
          "output_type": "execute_result",
          "data": {
            "text/plain": [
              "[42, 5774]"
            ]
          },
          "metadata": {
            "tags": []
          },
          "execution_count": 72
        }
      ]
    },
    {
      "cell_type": "code",
      "metadata": {
        "id": "wcLD6P97M1dT"
      },
      "source": [
        "#2nd way"
      ],
      "execution_count": 73,
      "outputs": []
    },
    {
      "cell_type": "code",
      "metadata": {
        "id": "oepRxRpWM4c6"
      },
      "source": [
        "for item in lst:\r\n",
        "  if isOdd(item):\r\n",
        "    filtered_odd_lst.append(item)"
      ],
      "execution_count": 74,
      "outputs": []
    },
    {
      "cell_type": "code",
      "metadata": {
        "colab": {
          "base_uri": "https://localhost:8080/"
        },
        "id": "nFNObwdXND5l",
        "outputId": "e56165ae-3aee-4788-a580-05627c976936"
      },
      "source": [
        "filtered_odd_lst"
      ],
      "execution_count": 75,
      "outputs": [
        {
          "output_type": "execute_result",
          "data": {
            "text/plain": [
              "[42, 5774]"
            ]
          },
          "metadata": {
            "tags": []
          },
          "execution_count": 75
        }
      ]
    },
    {
      "cell_type": "code",
      "metadata": {
        "id": "_XzXiqunNH3c"
      },
      "source": [
        "#lambda functions"
      ],
      "execution_count": 76,
      "outputs": []
    },
    {
      "cell_type": "code",
      "metadata": {
        "id": "6eAGhZkENLK-"
      },
      "source": [
        "def toThePowerEight(num):\r\n",
        "  return num**8"
      ],
      "execution_count": 77,
      "outputs": []
    },
    {
      "cell_type": "code",
      "metadata": {
        "colab": {
          "base_uri": "https://localhost:8080/"
        },
        "id": "0YUes0g5NTwg",
        "outputId": "d9d7ad0a-c177-4b51-a8e2-30fbb83296b5"
      },
      "source": [
        "toThePowerEight(9)"
      ],
      "execution_count": 78,
      "outputs": [
        {
          "output_type": "execute_result",
          "data": {
            "text/plain": [
              "43046721"
            ]
          },
          "metadata": {
            "tags": []
          },
          "execution_count": 78
        }
      ]
    },
    {
      "cell_type": "code",
      "metadata": {
        "id": "eqg1PMryNWxL"
      },
      "source": [
        "toThePowerEight=lambda num:num**10"
      ],
      "execution_count": 79,
      "outputs": []
    },
    {
      "cell_type": "code",
      "metadata": {
        "colab": {
          "base_uri": "https://localhost:8080/"
        },
        "id": "Cai4DVM7NfHS",
        "outputId": "5b781208-2961-4d90-a41e-b70ca323eef5"
      },
      "source": [
        "toThePowerEight(10)"
      ],
      "execution_count": 80,
      "outputs": [
        {
          "output_type": "execute_result",
          "data": {
            "text/plain": [
              "10000000000"
            ]
          },
          "metadata": {
            "tags": []
          },
          "execution_count": 80
        }
      ]
    },
    {
      "cell_type": "code",
      "metadata": {
        "id": "ij7981RANjfO"
      },
      "source": [
        "toThePower5=lambda num:num**5"
      ],
      "execution_count": 81,
      "outputs": []
    },
    {
      "cell_type": "code",
      "metadata": {
        "colab": {
          "base_uri": "https://localhost:8080/"
        },
        "id": "YRi5CeH0Nr0B",
        "outputId": "f390fb6c-d90e-4469-9039-b13d2a7dee3b"
      },
      "source": [
        "toThePower5(5)"
      ],
      "execution_count": 82,
      "outputs": [
        {
          "output_type": "execute_result",
          "data": {
            "text/plain": [
              "3125"
            ]
          },
          "metadata": {
            "tags": []
          },
          "execution_count": 82
        }
      ]
    },
    {
      "cell_type": "code",
      "metadata": {
        "id": "ktgL34I0NvOn"
      },
      "source": [
        ""
      ],
      "execution_count": null,
      "outputs": []
    }
  ]
}